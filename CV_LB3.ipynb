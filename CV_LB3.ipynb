{
  "nbformat": 4,
  "nbformat_minor": 0,
  "metadata": {
    "colab": {
      "provenance": []
    },
    "kernelspec": {
      "name": "python3",
      "display_name": "Python 3"
    },
    "language_info": {
      "name": "python"
    }
  },
  "cells": [
    {
      "cell_type": "markdown",
      "metadata": {
        "id": "E6rF8psBGW9f"
      },
      "source": [
        "*Задание на лабораторную работу №3*\n",
        "\n",
        "Целью данной работы является поиск движещуегося объекта на видео при неподвижной камере.\n",
        "\n",
        "Необходимо:\n",
        "\n",
        "- Обработать видео с целью лучшего распознавания объекта\n",
        "- Создать маску фона\n",
        "- Наложить маску на каждый кадр и выделить движущийся объект\n",
        "- Выделить движущийся объект рамкой"
      ]
    },
    {
      "cell_type": "markdown",
      "metadata": {
        "id": "PKFh6Z3aI7Ec"
      },
      "source": [
        "# <font color='#F5DEB3'>1. Подключение библиотек, загрузка данных"
      ]
    },
    {
      "cell_type": "code",
      "execution_count": 7,
      "metadata": {
        "id": "qJmYyza5I6OT"
      },
      "outputs": [],
      "source": [
        "import numpy as np\n",
        "from time import time\n",
        "import cv2\n",
        "from IPython.display import clear_output\n",
        "\n",
        "from google.colab import drive\n",
        "from google.colab.patches import cv2_imshow"
      ]
    },
    {
      "cell_type": "code",
      "execution_count": 8,
      "metadata": {
        "colab": {
          "base_uri": "https://localhost:8080/"
        },
        "id": "KbnsGZ3mKh4v",
        "outputId": "ec121c96-d176-4ad7-a7f3-6be6f262fcae"
      },
      "outputs": [
        {
          "output_type": "stream",
          "name": "stdout",
          "text": [
            "Drive already mounted at /content/drive; to attempt to forcibly remount, call drive.mount(\"/content/drive\", force_remount=True).\n"
          ]
        }
      ],
      "source": [
        "drive.mount('/content/drive')"
      ]
    },
    {
      "cell_type": "markdown",
      "metadata": {
        "id": "RzOSYUFRNEPo"
      },
      "source": [
        "# <font color='#F5DEB3'>2. Основная часть работы"
      ]
    },
    {
      "cell_type": "markdown",
      "source": [
        "Для выполнения задачи поиска движущегося объекта на видео с неподвижной камерой можно использовать метод вычитания фона. Этот метод позволяет создать маску фона, выделить движущиеся объекты и обвести их рамкой. Также отдельно выведим вид маски."
      ],
      "metadata": {
        "id": "iXjQjelQTCtF"
      }
    },
    {
      "cell_type": "code",
      "source": [
        "# Путь к видеофайлу на Google Drive\n",
        "video_path = '/content/drive/MyDrive/Colab Notebooks/CV_LB3_data/video2.mp4'\n",
        "\n",
        "# Создание объекта для чтения видео\n",
        "cap = cv2.VideoCapture(video_path)\n",
        "\n",
        "# Проверка, удалось ли открыть видео\n",
        "if not cap.isOpened():\n",
        "    raise IOError(\"Не удалось открыть видео.\")\n",
        "\n",
        "# Чтение первого кадра для создания маски фона\n",
        "ret, first_frame = cap.read()\n",
        "if not ret:\n",
        "    raise IOError(\"Не удалось прочитать первый кадр.\")\n",
        "\n",
        "# Преобразование первого кадра в градации серого\n",
        "first_frame_gray = cv2.cvtColor(first_frame, cv2.COLOR_BGR2GRAY)\n",
        "first_frame_gray = cv2.GaussianBlur(first_frame_gray, (5, 5), 0)  # Размытие для уменьшения шума\n",
        "\n",
        "# Инициализация переменных для записи видео\n",
        "frame_width = int(cap.get(cv2.CAP_PROP_FRAME_WIDTH))\n",
        "frame_height = int(cap.get(cv2.CAP_PROP_FRAME_HEIGHT))\n",
        "fps = int(cap.get(cv2.CAP_PROP_FPS))\n",
        "\n",
        "# Создание объекта для записи результата\n",
        "output_path_mask = '/content/drive/MyDrive/Colab Notebooks/CV_LB3_data/output_mask_video.mp4'\n",
        "output_path = '/content/drive/MyDrive/Colab Notebooks/CV_LB3_data/output_video.mp4'\n",
        "fourcc = cv2.VideoWriter_fourcc(*'XVID')\n",
        "out = cv2.VideoWriter(output_path, fourcc, fps, (frame_width, frame_height))\n",
        "out_mask = cv2.VideoWriter(output_path_mask, fourcc, fps, (frame_width, frame_height), isColor=False)\n",
        "\n",
        "# Обработка каждого кадра\n",
        "while True:\n",
        "    ret, frame = cap.read()\n",
        "    if not ret:\n",
        "        break\n",
        "\n",
        "    # Преобразование текущего кадра в градации серого\n",
        "    gray = cv2.cvtColor(frame, cv2.COLOR_BGR2GRAY)\n",
        "    gray = cv2.GaussianBlur(gray, (5, 5), 0)  # Размытие для уменьшения шума\n",
        "\n",
        "    # Вычисление разницы между текущим кадром и фоном\n",
        "    diff = cv2.absdiff(first_frame_gray, gray)\n",
        "\n",
        "    # Бинаризация разницы для создания маски\n",
        "    _, mask = cv2.threshold(diff, 30, 255, cv2.THRESH_BINARY)\n",
        "\n",
        "    # Морфологические операции для устранения шума\n",
        "    mask = cv2.dilate(mask, None, iterations=2)\n",
        "    mask = cv2.erode(mask, None, iterations=2)\n",
        "\n",
        "    # Применение маски к текущему кадру\n",
        "    masked_frame = cv2.bitwise_and(frame, frame, mask=mask)\n",
        "\n",
        "    # Преобразование маскированного кадра в черно-белый формат\n",
        "    masked_frame_gray = cv2.cvtColor(masked_frame, cv2.COLOR_BGR2GRAY)\n",
        "\n",
        "    # Запись маскированного кадра в выходное видео\n",
        "    out_mask.write(masked_frame_gray)\n",
        "\n",
        "    # Поиск контуров на маске\n",
        "    contours, _ = cv2.findContours(mask, cv2.RETR_EXTERNAL, cv2.CHAIN_APPROX_SIMPLE)\n",
        "\n",
        "    # Обводка контуров и выделение движущихся объектов\n",
        "    for contour in contours:\n",
        "        if cv2.contourArea(contour) > 500:  # Фильтрация маленьких контуров\n",
        "            x, y, w, h = cv2.boundingRect(contour)\n",
        "            cv2.rectangle(frame, (x, y), (x + w, y + h), (0, 255, 0), 2)\n",
        "\n",
        "    # Запись обработанного кадра в выходное видео\n",
        "    out.write(frame)\n",
        "\n",
        "    # Очищаем вывод\n",
        "    clear_output(wait=True)\n",
        "\n",
        "# Освобождение ресурсов\n",
        "cap.release()\n",
        "out.release()\n",
        "out_mask.release()\n",
        "\n",
        "print(\"Обработка завершена. Результаты смотрите в \", '/content/drive/MyDrive/Colab Notebooks/CV_LB3_data')"
      ],
      "metadata": {
        "colab": {
          "base_uri": "https://localhost:8080/"
        },
        "id": "2IIiRaGb8uAT",
        "outputId": "6ba99384-1f05-4ade-c5aa-3faa33a19e1d"
      },
      "execution_count": 9,
      "outputs": [
        {
          "output_type": "stream",
          "name": "stdout",
          "text": [
            "Обработка завершена. Результаты смотрите в  /content/drive/MyDrive/Colab Notebooks/CV_LB3_data\n"
          ]
        }
      ]
    }
  ]
}